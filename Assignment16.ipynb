{
 "cells": [
  {
   "cell_type": "markdown",
   "metadata": {},
   "source": [
    "## Problem Statement 1:\n",
    "A test is conducted which is consisting of 20 MCQs (multiple choices questions) with\n",
    "every MCQ having its four options out of which only one is correct. Determine the\n",
    "probability that a person undertaking that test has answered exactly 5 questions wrong."
   ]
  },
  {
   "cell_type": "code",
   "execution_count": 2,
   "metadata": {},
   "outputs": [],
   "source": [
    "#Import Libraries\n",
    "\n",
    "import pandas as pd\n",
    "from scipy.stats import binom"
   ]
  },
  {
   "cell_type": "code",
   "execution_count": 4,
   "metadata": {},
   "outputs": [
    {
     "name": "stdout",
     "output_type": "stream",
     "text": [
      "\n",
      "Probality of 5 incorrect answers: 3.4264958230778435e-06\n"
     ]
    }
   ],
   "source": [
    "#total_no_of_question = 20\n",
    "\n",
    "n= 20\n",
    "\n",
    "# probality of incorrect answer of a one question\n",
    "p_corr_answer = 1/4\n",
    "p_incor_answer =(1 - p_corr_answer)\n",
    "\n",
    "# probality of incorrect answers for 5 questions\n",
    "p_five_incor_answer=binom.pmf(5,n,p_incor_answer)\n",
    "print('\\nProbality of 5 incorrect answers:',p_five_incor_answer)"
   ]
  },
  {
   "cell_type": "markdown",
   "metadata": {},
   "source": [
    "## Problem Statement 2:\n",
    "A die marked A to E is rolled 50 times. Find the probability of getting a “D” exactly 5\n",
    "times."
   ]
  },
  {
   "cell_type": "code",
   "execution_count": 5,
   "metadata": {},
   "outputs": [
    {
     "name": "stdout",
     "output_type": "stream",
     "text": [
      "\n",
      " Probality of D exactly 5 times: 0.029531204310523224\n"
     ]
    }
   ],
   "source": [
    "#total_no_of_rolls = 50\n",
    "\n",
    "n=50\n",
    "\n",
    "# probality of getting D in one roll\n",
    "p_D = 1/5 \n",
    "\n",
    "# probality of getting D in exactly 5 times\n",
    "p_five_D=binom.pmf(5,n,p_D)\n",
    "print('\\n Probality of D exactly 5 times:', p_five_D)"
   ]
  },
  {
   "cell_type": "markdown",
   "metadata": {},
   "source": [
    "## Problem Statement 3:\n",
    "Two balls are drawn at random in succession without replacement from an urn\n",
    "containing 4 red balls and 6 black balls.\n",
    "Find the probabilities of all the possible outcomes."
   ]
  },
  {
   "cell_type": "code",
   "execution_count": 9,
   "metadata": {},
   "outputs": [
    {
     "name": "stdout",
     "output_type": "stream",
     "text": [
      "  Color  Probablity\n",
      "0    RR    0.133333\n",
      "1    RB    0.266667\n",
      "2    BR    0.266667\n",
      "3    BB    0.333333\n"
     ]
    }
   ],
   "source": [
    "n_balls = 10\n",
    "n_red_balls = 4\n",
    "n_black_balls = 6\n",
    "\n",
    "# letter Red = R, Letter Black = B\n",
    "\n",
    "# probability of first ball red = 4/10\n",
    "# probability of second ball red = 3/9 \n",
    "# probability of second ball black = 6/9\n",
    "\n",
    "# probability of first ball black = 6/10\n",
    "# probability of second ball black = 5/9\n",
    "# probability of second ball red = 4/9\n",
    "\n",
    "p_RR = (4/10) * (3/9)\n",
    "p_RB = (4/10) * (6/9)\n",
    "p_BR = (6/10) * (4/9)\n",
    "p_BB = (6/10) * (5/9)\n",
    "\n",
    "seq_color=['RR','RB','BR','BB']\n",
    "\n",
    "df_probablity=pd.DataFrame({'Color':seq_color,\n",
    "                'Probablity':[p_RR,p_RB,p_BR,p_BB]})\n",
    "print(df_probablity)\n"
   ]
  }
 ],
 "metadata": {
  "kernelspec": {
   "display_name": "Python 3",
   "language": "python",
   "name": "python3"
  },
  "language_info": {
   "codemirror_mode": {
    "name": "ipython",
    "version": 3
   },
   "file_extension": ".py",
   "mimetype": "text/x-python",
   "name": "python",
   "nbconvert_exporter": "python",
   "pygments_lexer": "ipython3",
   "version": "3.7.1"
  }
 },
 "nbformat": 4,
 "nbformat_minor": 2
}
